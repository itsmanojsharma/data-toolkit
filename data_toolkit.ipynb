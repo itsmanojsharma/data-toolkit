{
  "nbformat": 4,
  "nbformat_minor": 0,
  "metadata": {
    "colab": {
      "provenance": []
    },
    "kernelspec": {
      "name": "python3",
      "display_name": "Python 3"
    },
    "language_info": {
      "name": "python"
    }
  },
  "cells": [
    {
      "cell_type": "markdown",
      "source": [
        "1."
      ],
      "metadata": {
        "id": "2u5rUWOl0b-S"
      }
    },
    {
      "cell_type": "code",
      "source": [],
      "metadata": {
        "id": "3Lq8rAva0hxD"
      },
      "execution_count": null,
      "outputs": []
    },
    {
      "cell_type": "markdown",
      "source": [
        "1.how do you create a 2d numpy array and calculate the some of each row\n",
        "  -TO create 2d numpy array and calculate the sum of each row you can use the array then use the sun() function with axis parameter to sum alog the row"
      ],
      "metadata": {
        "id": "l8HO8bUD1fW3"
      }
    },
    {
      "cell_type": "code",
      "source": [
        "\"\"\"import numpy as np\n",
        "\n",
        "\n",
        "\n",
        "# Create a 2D array\n",
        "\n",
        "my_array = np.array([[1, 2, 3], [4, 5, 6], [7, 8, 9]])\n",
        "\n",
        "\n",
        "\n",
        "# Calculate sum of each row\n",
        "\n",
        "row_sums = np.sum(my_array, axis=1) \"\"\""
      ],
      "metadata": {
        "colab": {
          "base_uri": "https://localhost:8080/",
          "height": 106
        },
        "id": "U7x3VNNh6Sn-",
        "outputId": "8b3db536-f58d-4454-d0e6-755a6a25485e"
      },
      "execution_count": 3,
      "outputs": [
        {
          "output_type": "error",
          "ename": "SyntaxError",
          "evalue": "incomplete input (<ipython-input-3-5078dd860c7e>, line 13)",
          "traceback": [
            "\u001b[0;36m  File \u001b[0;32m\"<ipython-input-3-5078dd860c7e>\"\u001b[0;36m, line \u001b[0;32m13\u001b[0m\n\u001b[0;31m    row_sums = np.sum(my_array, axis=1) \"\"\"\u001b[0m\n\u001b[0m                                        ^\u001b[0m\n\u001b[0;31mSyntaxError\u001b[0m\u001b[0;31m:\u001b[0m incomplete input\n"
          ]
        }
      ]
    },
    {
      "cell_type": "markdown",
      "source": [
        "2.Write a Pandas script to find the mean of a specific column in a\n",
        "  -"
      ],
      "metadata": {
        "id": "V89lJq6n64t8"
      }
    },
    {
      "cell_type": "code",
      "source": [
        "answer 2 # \"\"\"importing pandas as pd\n",
        "import pandas as pd\n",
        "\n",
        "# Creating the dataframe\n",
        "df = pd.DataFrame({\"A\":[12, 4, 5, 44, 1],\n",
        "                \"B\":[5, 2, 54, 3, 2],\n",
        "                \"C\":[20, 16, 7, 3, 8],\n",
        "                \"D\":[14, 3, 17, 2, 6]})\"\"\"\n",
        "\n",
        "# Print the dataframe\n",
        "df"
      ],
      "metadata": {
        "id": "tAgh_tuF7gEI"
      },
      "execution_count": null,
      "outputs": []
    },
    {
      "cell_type": "markdown",
      "source": [
        "3. Create a scatter plot using Matplotlib\n",
        "  -This code will generate a scatter plot with 50 random data points. The x and y coordinates of each point are determined by the np.random.rand() function, which generates random numbers between 0 and 1. The plt.scatter() function creates the scatter plot, and the plt.xlabel(), plt.ylabel(), and plt.title() functions add labels and a title to the plot. Finally, the plt.show() function displays the plo\n",
        "\n",
        "\n",
        "\n"
      ],
      "metadata": {
        "id": "0-vB23FJ7m7N"
      }
    },
    {
      "cell_type": "markdown",
      "source": [],
      "metadata": {
        "id": "pIiKMjPK2ZCX"
      }
    },
    {
      "cell_type": "code",
      "source": [
        "answer.3\"\"\" import matplotlib.pyplot as plt\n",
        "import numpy as np\n",
        "\n",
        "# Generate sample data\n",
        "x = np.random.rand(50)\n",
        "y = np.random.rand(50)\n",
        "\n",
        "# Create the scatter plot\n",
        "plt.scatter(x, y)\n",
        "\n",
        "# Add labels and title\n",
        "plt.xlabel(\"X-axis Label\")\n",
        "plt.ylabel(\"Y-axis Label\")\n",
        "plt.title(\"Scatter Plot Example\")\"\"\"\n",
        "\n"
      ],
      "metadata": {
        "colab": {
          "base_uri": "https://localhost:8080/",
          "height": 106
        },
        "id": "FcuKHrk878QW",
        "outputId": "d1d0e605-160d-45fd-fd0b-8c9f5b282a52"
      },
      "execution_count": 2,
      "outputs": [
        {
          "output_type": "error",
          "ename": "SyntaxError",
          "evalue": "unterminated triple-quoted string literal (detected at line 15) (<ipython-input-2-03f0ed085612>, line 14)",
          "traceback": [
            "\u001b[0;36m  File \u001b[0;32m\"<ipython-input-2-03f0ed085612>\"\u001b[0;36m, line \u001b[0;32m14\u001b[0m\n\u001b[0;31m    plt.title(\"Scatter Plot Example\")\"\"\"\u001b[0m\n\u001b[0m                                     ^\u001b[0m\n\u001b[0;31mSyntaxError\u001b[0m\u001b[0;31m:\u001b[0m unterminated triple-quoted string literal (detected at line 15)\n"
          ]
        }
      ]
    },
    {
      "cell_type": "markdown",
      "source": [
        "4.How do you calculate the correlation matrix using Seaborn and visualize it with a heatmap\n",
        "  -Import the library seaborn as sns.\n",
        "Use the full_health_data set.\n",
        "Use sns. heatmap() to tell Python that we want a heatmap to visualize the correlation matrix.\n",
        "Use the correlation matrix. ...\n",
        "Define the colors with sns. ...\n",
        "square = True means that we want to see square"
      ],
      "metadata": {
        "id": "ZSw0w7Cb8bpN"
      }
    },
    {
      "cell_type": "code",
      "source": [
        "answer 4\n",
        "-\"\"\" Import modules\n",
        "import matplotlib.pyplot as mp\n",
        "import pandas as pd\n",
        "import seaborn as sb\n",
        "\n",
        "# Import file with data\n",
        "data = pd.read_csv(\"C:\\\\Users\\\\Vanshi\\\\Desktop\\\\bestsellers.csv\")\n",
        "\n",
        "# Print data that will be plotted\n",
        "# Columns shown here are selected by corr() since\n",
        "# they are ideal for the plot\n",
        "print(data.corr(numeric_only=True))\n",
        "\n",
        "# Plotting correlation heatmap\n",
        "dataplot = sb.heatmap(data.corr(numeric_only=True), cmap=\"YlGnBu\", annot=True)\"\"\"\n",
        "\n"
      ],
      "metadata": {
        "id": "n7p-hFcr8tdd"
      },
      "execution_count": null,
      "outputs": []
    },
    {
      "cell_type": "markdown",
      "source": [
        "5.Generate a bar plot using Plotly\n",
        "  -Plotly is a Python library which is used to design graphs, especially interactive graphs. It can plot various graphs and charts like histogram, barplot, boxplot, spreadplot, and many more. It is mainly used in data analysis as well as financial analysis. Plotly is an interactive visualization library.\n",
        "\n",
        "Bar Chart\n",
        "In a bar chart the data categories are displayed on the vertical axis and the data values are displayed on the horizontal axis. Labels are easier to display and with a big data set they impel to work better in a narrow layout such as mobile view."
      ],
      "metadata": {
        "id": "_fqDgCTQ9gzE"
      }
    },
    {
      "cell_type": "code",
      "source": [
        "answer 5\n",
        "  -\n",
        "\n",
        "\n",
        "\n",
        "\"\"\"import plotly.express as px\n",
        "import numpy\n",
        "\n",
        "# creating random data through randomint\n",
        "# function of numpy.random\n",
        "np.random.seed(42)\n",
        "\n",
        "random_x= np.random.randint(1, 101, 100)\n",
        "random_y= np.random.randint(1, 101, 100)\n",
        "\n",
        "fig = px.bar(random_x, y = random_y)\"\"\"\n"
      ],
      "metadata": {
        "id": "_XRyMQi29wep"
      },
      "execution_count": null,
      "outputs": []
    },
    {
      "cell_type": "markdown",
      "source": [
        "6. Create a DataFrame and add a new column based on an existing columnA\n",
        "  - data frame colum"
      ],
      "metadata": {
        "id": "NJIktwxt-V3G"
      }
    },
    {
      "cell_type": "code",
      "source": [
        "answer 6\n",
        "\n",
        " - \"\"\"import pandas as pd\n",
        "\n",
        "# Create a sample DataFrame\n",
        "data = {'A': [10, 20, 30, 40, 50]}\n",
        "df = pd.DataFrame(data)\n",
        "\n",
        "# Add a new column 'B' by doubling the values in column 'A'\n",
        "df['B'] = df['A'] * 2 \"\"\""
      ],
      "metadata": {
        "id": "91H1da3z-wu1"
      },
      "execution_count": null,
      "outputs": []
    },
    {
      "cell_type": "markdown",
      "source": [
        "7.Write a program to perform element-wise multiplication of two NumPy arrays\n",
        "  -Here is a program that performs element-wise multiplication of two NumPy array"
      ],
      "metadata": {
        "id": "e0IhdbNr_cnE"
      }
    },
    {
      "cell_type": "code",
      "source": [
        "answer 7\n",
        " \"\"\" -mport numpy as np\n",
        "\n",
        "def multiply_arrays(array1, array2):\n",
        "    \"\"\"\n",
        "    Performs element-wise multiplication of two NumPy arrays.\n",
        "\n",
        "    Args:\n",
        "        array1 (np.ndarray): The first input array.\n",
        "        array2 (np.ndarray): The second input array.\n",
        "\n",
        "    Returns:\n",
        "        np.ndarray: A new array containing the element-wise product of array1 and array2.\n",
        "                      Returns None if the arrays are not compatible for multiplication.\n",
        "    \"\"\"\n",
        "    if array1.shape != array2.shape:\n",
        "        print(\"Arrays must have the same shape for element-wise multiplication.\")\n",
        "        return None\n",
        "\n",
        "    return np.multiply(array1, array2)\n",
        "\n",
        "if __name__ == \"__main__\":\n",
        "    array1 = np.array([[1, 2, 3], [4, 5, 6]])\n",
        "    array2 = np.array([[7, 8, 9], [10, 11, 12]])\n",
        "\n",
        "    result_array = multiply_arrays(array1, array2)\n",
        "\n",
        "    if result_array is not None:\n",
        "        print(\"Array 1:\")\n",
        "        print(array1)\n",
        "        print(\"\\nArray 2:\")\n",
        "        print(array2)\n",
        "        print(\"\\nElement-wise product:\")\n",
        "        print(result_array)\"\"\""
      ],
      "metadata": {
        "id": "P4u4Ayzg_5ST"
      },
      "execution_count": null,
      "outputs": []
    }
  ]
}